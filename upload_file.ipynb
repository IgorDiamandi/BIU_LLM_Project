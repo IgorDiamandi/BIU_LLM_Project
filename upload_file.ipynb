{
 "cells": [
  {
   "cell_type": "code",
   "execution_count": 1,
   "id": "4b3a429b-a5b0-4dd2-902a-34839e7a9106",
   "metadata": {
    "scrolled": true
   },
   "outputs": [],
   "source": [
    "import os\n",
    "import json5\n",
    "from  tqdm import tqdm\n",
    "import boto3\n",
    "import yaml\n",
    "from botocore.exceptions import NoCredentialsError, ClientError"
   ]
  },
  {
   "cell_type": "code",
   "execution_count": 2,
   "id": "5384877c-c55d-4055-82d6-a57920b0348f",
   "metadata": {
    "scrolled": true
   },
   "outputs": [],
   "source": [
    "def load_config(config_file):\n",
    "    # Load configuration from the YAML file\n",
    "    with open(config_file, 'r') as file:\n",
    "        config = yaml.safe_load(file)\n",
    "    return config"
   ]
  },
  {
   "cell_type": "code",
   "execution_count": 3,
   "id": "4ee958f1-34d0-4847-93d6-e1491a98f71e",
   "metadata": {
    "scrolled": true
   },
   "outputs": [],
   "source": [
    "def upload_file_to_s3(config, file_path, target_region_name, target_bucket_name, target_path, log_file='upload_file'):\n",
    "    \n",
    "    # Extract parameters from the configuration    \n",
    "    aws_access_key_id = config['aws']['aws_access_key_id']\n",
    "    aws_secret_access_key = config['aws']['aws_secret_access_key']\n",
    "    log_file = log_file+'.csv'\n",
    "    \n",
    "    # Create an S3 client with the specified credentials\n",
    "    s3_client = boto3.client(\n",
    "        's3',\n",
    "        aws_access_key_id=aws_access_key_id,\n",
    "        aws_secret_access_key=aws_secret_access_key,\n",
    "        region_name=target_region_name\n",
    "    )\n",
    "\n",
    "    try:\n",
    "        # Upload the file\n",
    "        response = s3_client.upload_file(file_path, target_bucket_name, target_path + file_path.split('/')[-1])\n",
    "        print(f\"File {file_path} uploaded to {target_bucket_name}/{target_path}\")\n",
    "    except FileNotFoundError:\n",
    "        print(\"The file was not found\")\n",
    "    except NoCredentialsError:\n",
    "        print(\"Credentials not available\")\n",
    "    except ClientError as e:\n",
    "        print(f\"Failed to upload {file_path} to {target_bucket_name}/{target_path}: {e}\")"
   ]
  },
  {
   "cell_type": "code",
   "execution_count": 4,
   "id": "ce72fce0-36e6-4142-afc9-89eb89b432d9",
   "metadata": {},
   "outputs": [
    {
     "name": "stdout",
     "output_type": "stream",
     "text": [
      "Current working directory: C:\\github_repos\\BIU_LLM_Project\n",
      "File L:/My Drive/Source_Files//lior_test.txt uploaded to ct-external-sources/ds/rag01/sources/\n"
     ]
    }
   ],
   "source": [
    "def main():\n",
    "    \"\"\"s\n",
    "    Upload single local file - Main entry point\n",
    "    \"\"\"    \n",
    "    print(\"Current working directory:\", os.getcwd())\n",
    "    \n",
    "    try:\n",
    "        # Extract parameters from the configuration\n",
    "        config_file = 'config/config.yaml'\n",
    "        config = load_config(config_file)        \n",
    "\n",
    "        # Source Folder and sub-folders to upload\n",
    "        sources_folder_name = config['local']['sources_folder_name']\n",
    "\n",
    "        file_name = 'lior_test.txt'\n",
    "        file_path = f\"{sources_folder_name}//{file_name}\"\n",
    "               \n",
    "        # Target aws s3\n",
    "        target_region_name = config['aws']['region_name']\n",
    "        target_bucket_name = config['aws']['sources_bucket_name']\n",
    "        target_path = config['aws']['sources_path']    \n",
    "        log_file = 'upload_file'\n",
    "        \n",
    "        upload_file_to_s3(config, file_path, target_region_name, target_bucket_name, target_path, log_file)\n",
    "        \n",
    "    except Exception as e:\n",
    "        print(f\"Main process error: {str(e)}\")\n",
    "        raise\n",
    "\n",
    "if __name__ == \"__main__\":\n",
    "    main()"
   ]
  },
  {
   "cell_type": "raw",
   "id": "3d886ce4-bf91-40be-9da0-609a2adbb1df",
   "metadata": {
    "scrolled": true
   },
   "source": [
    "# Example usage\n",
    "folder_name = config['local']['sources_folder_name']\n",
    "file_name = 'lior_test.txt'\n",
    "file_path = f\"{folder_name}//{file_name}\"\n",
    "\n",
    "upload_file_to_s3(file_path, config)"
   ]
  },
  {
   "cell_type": "code",
   "execution_count": null,
   "id": "02380f70-2ba8-4a20-a5ac-d98697b65616",
   "metadata": {},
   "outputs": [],
   "source": []
  }
 ],
 "metadata": {
  "kernelspec": {
   "display_name": "Python 3 (ipykernel)",
   "language": "python",
   "name": "python3"
  },
  "language_info": {
   "codemirror_mode": {
    "name": "ipython",
    "version": 3
   },
   "file_extension": ".py",
   "mimetype": "text/x-python",
   "name": "python",
   "nbconvert_exporter": "python",
   "pygments_lexer": "ipython3",
   "version": "3.12.4"
  }
 },
 "nbformat": 4,
 "nbformat_minor": 5
}
