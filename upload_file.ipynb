{
 "cells": [
  {
   "cell_type": "code",
   "execution_count": 1,
   "id": "0a056cef-09aa-481b-853a-a341932c2edf",
   "metadata": {},
   "outputs": [
    {
     "name": "stdout",
     "output_type": "stream",
     "text": [
      "Current working directory: C:\\github_repos\\BIU_LLM_Project\n"
     ]
    }
   ],
   "source": [
    "import os\n",
    "print(\"Current working directory:\", os.getcwd())"
   ]
  },
  {
   "cell_type": "code",
   "execution_count": 2,
   "id": "4b3a429b-a5b0-4dd2-902a-34839e7a9106",
   "metadata": {
    "scrolled": true
   },
   "outputs": [],
   "source": [
    "import json5\n",
    "from  tqdm import tqdm\n",
    "import boto3\n",
    "import yaml\n",
    "from botocore.exceptions import NoCredentialsError, ClientError"
   ]
  },
  {
   "cell_type": "code",
   "execution_count": 3,
   "id": "5384877c-c55d-4055-82d6-a57920b0348f",
   "metadata": {
    "scrolled": true
   },
   "outputs": [],
   "source": [
    "def load_config(config_file):\n",
    "    # Load configuration from the YAML file\n",
    "    with open(config_file, 'r') as file:\n",
    "        config = yaml.safe_load(file)\n",
    "    return config"
   ]
  },
  {
   "cell_type": "code",
   "execution_count": 4,
   "id": "4ee958f1-34d0-4847-93d6-e1491a98f71e",
   "metadata": {
    "scrolled": true
   },
   "outputs": [],
   "source": [
    "def upload_file_to_s3(file_name, config):\n",
    "    # Extract parameters from the configuration\n",
    "    region_name = config['aws']['region_name']\n",
    "    upload_bucket_name = config['aws']['upload_bucket_name']\n",
    "    upload_path = config['aws']['upload_path']\n",
    "    aws_access_key_id = config['aws']['aws_access_key_id']\n",
    "    aws_secret_access_key = config['aws']['aws_secret_access_key']\n",
    "    \n",
    "    # Create an S3 client with the specified credentials\n",
    "    s3_client = boto3.client(\n",
    "        's3',\n",
    "        aws_access_key_id=aws_access_key_id,\n",
    "        aws_secret_access_key=aws_secret_access_key,\n",
    "        region_name=region_name\n",
    "    )\n",
    "\n",
    "    try:\n",
    "        # Upload the file\n",
    "        response = s3_client.upload_file(file_name, upload_bucket_name, upload_path + file_name.split('/')[-1])\n",
    "        print(f\"File {file_name} uploaded to {upload_bucket_name}/{upload_path}\")\n",
    "    except FileNotFoundError:\n",
    "        print(\"The file was not found\")\n",
    "    except NoCredentialsError:\n",
    "        print(\"Credentials not available\")\n",
    "    except ClientError as e:\n",
    "        print(f\"Failed to upload {file_name} to {upload_bucket_name}/{upload_path}: {e}\")"
   ]
  },
  {
   "cell_type": "code",
   "execution_count": 5,
   "id": "85cab42e-b84b-482a-81f3-cec5f09c714e",
   "metadata": {
    "scrolled": true
   },
   "outputs": [],
   "source": [
    "# Load configuration\n",
    "config_file = 'config/config.yaml'\n",
    "config = load_config(config_file)"
   ]
  },
  {
   "cell_type": "code",
   "execution_count": 6,
   "id": "9546ab25-ce68-467e-8145-f1ca585a436f",
   "metadata": {
    "scrolled": true
   },
   "outputs": [
    {
     "name": "stdout",
     "output_type": "stream",
     "text": [
      "File lior_test.txt uploaded to ct-external-sources/ds/rag01/sources/\n"
     ]
    }
   ],
   "source": [
    "# Example usage\n",
    "file_name = 'lior_test.txt'  # Replace with your file path\n",
    "upload_file_to_s3(file_name, config)"
   ]
  }
 ],
 "metadata": {
  "kernelspec": {
   "display_name": "LLM_Projects",
   "language": "python",
   "name": "llm_projects"
  },
  "language_info": {
   "codemirror_mode": {
    "name": "ipython",
    "version": 3
   },
   "file_extension": ".py",
   "mimetype": "text/x-python",
   "name": "python",
   "nbconvert_exporter": "python",
   "pygments_lexer": "ipython3",
   "version": "3.11.9"
  }
 },
 "nbformat": 4,
 "nbformat_minor": 5
}
