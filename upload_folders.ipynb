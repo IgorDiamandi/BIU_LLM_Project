{
 "cells": [
  {
   "cell_type": "code",
   "execution_count": 1,
   "id": "de7fca6f-a321-4381-a30e-1378848a70e9",
   "metadata": {},
   "outputs": [],
   "source": [
    "import os\n",
    "import json5\n",
    "from tqdm import tqdm\n",
    "import boto3\n",
    "import yaml\n",
    "from datetime import datetime\n",
    "from botocore.exceptions import NoCredentialsError, ClientError"
   ]
  },
  {
   "cell_type": "code",
   "execution_count": 2,
   "id": "0c27a753-bc95-4cd0-9012-4bae32bf12ff",
   "metadata": {},
   "outputs": [
    {
     "name": "stdout",
     "output_type": "stream",
     "text": [
      "Current working directory: C:\\github_repos\\BIU_LLM_Project\n"
     ]
    }
   ],
   "source": [
    "print(\"Current working directory:\", os.getcwd())"
   ]
  },
  {
   "cell_type": "code",
   "execution_count": 3,
   "id": "e5b04d8c-4a8f-4769-8c1c-7f5f8d9d9f66",
   "metadata": {},
   "outputs": [],
   "source": [
    "def load_config(config_file):\n",
    "    # Load configuration from the YAML file\n",
    "    with open(config_file, 'r') as file:\n",
    "        config = yaml.safe_load(file)\n",
    "    return config"
   ]
  },
  {
   "cell_type": "code",
   "execution_count": 4,
   "id": "bcc8bc38-1ab2-430e-a3f4-8271735c2691",
   "metadata": {},
   "outputs": [],
   "source": [
    "# Load configuration\n",
    "config_file = 'config/config.yaml'\n",
    "config = load_config(config_file)"
   ]
  },
  {
   "cell_type": "code",
   "execution_count": 5,
   "id": "e3950045-067c-4349-a886-44ab09cb9381",
   "metadata": {},
   "outputs": [],
   "source": [
    "def write_log(log_file_name, log_text, config):\n",
    "    # Extract parameters from the configuration\n",
    "    region_name = config['aws']['region_name']\n",
    "    log_bucket_name = config['aws']['log_bucket_name']\n",
    "    log_path = config['aws']['log_path']\n",
    "    aws_access_key_id = config['aws']['aws_access_key_id']\n",
    "    aws_secret_access_key = config['aws']['aws_secret_access_key']\n",
    "\n",
    "    # Create an S3 client with the specified credentials\n",
    "    s3_client = boto3.client(\n",
    "        's3',\n",
    "        aws_access_key_id=aws_access_key_id,\n",
    "        aws_secret_access_key=aws_secret_access_key,\n",
    "        region_name=region_name\n",
    "    )\n",
    "\n",
    "    # Construct the S3 key for the log file\n",
    "    s3_key = f\"{log_path}/{log_file_name}\"\n",
    "\n",
    "    # Get the current system time\n",
    "    current_time = datetime.now().strftime(\"%Y/%m/%d %H:%M:%S\")\n",
    "\n",
    "    # Create a CSV row with the current time and log text\n",
    "    log_row = [current_time, log_text]\n",
    "    \n",
    "    # Try to download the existing log file, if it exists\n",
    "    try:\n",
    "        # Read the existing log file from S3\n",
    "        response = s3_client.get_object(Bucket=log_bucket_name, Key=s3_key)\n",
    "        existing_log = response['Body'].read().decode('utf-8')\n",
    "        \n",
    "        # Append the new log row to the existing log content\n",
    "        log_content = existing_log + \"\\n\" + \",\".join(log_row)\n",
    "\n",
    "    except s3_client.exceptions.NoSuchKey:\n",
    "        # If the file does not exist, create a new log content with headers\n",
    "        log_content = \"Start Log\\n\" + \",\".join(log_row)\n",
    "\n",
    "    # Write the updated log content back to S3\n",
    "    try:\n",
    "        # Convert log content to bytes and upload it\n",
    "        s3_client.put_object(Bucket=log_bucket_name, Key=s3_key, Body=log_content.encode('utf-8'))\n",
    "        #print(f\"Log entry added to {log_bucket_name}/{s3_key}\")\n",
    "    except (NoCredentialsError, ClientError) as e:\n",
    "        print(f\"Failed to write log entry to {log_bucket_name}/{s3_key}: {e}\") "
   ]
  },
  {
   "cell_type": "code",
   "execution_count": 6,
   "id": "1685cf8a-12ea-474c-921d-d3f4d8a51c36",
   "metadata": {},
   "outputs": [],
   "source": [
    "def upload_folders_to_s3(folder_name, config):\n",
    "    # Extract parameters from the configuration\n",
    "    region_name = config['aws']['region_name']\n",
    "    upload_bucket_name = config['aws']['upload_bucket_name']\n",
    "    upload_path = config['aws']['upload_path']\n",
    "    aws_access_key_id = config['aws']['aws_access_key_id']\n",
    "    aws_secret_access_key = config['aws']['aws_secret_access_key']\n",
    "    \n",
    "    # Create an S3 client with the specified credentials\n",
    "    s3_client = boto3.client(\n",
    "        's3',\n",
    "        aws_access_key_id=aws_access_key_id,\n",
    "        aws_secret_access_key=aws_secret_access_key,\n",
    "        region_name=region_name\n",
    "    )\n",
    "\n",
    "    # Progress bar class for tracking each file\n",
    "    class ProgressPercentage(object):\n",
    "        def __init__(self, filename):\n",
    "            self._filename = filename\n",
    "            self._seen_so_far = 0\n",
    "            self._total = os.path.getsize(filename)\n",
    "            # Initialize the tqdm progress bar for the current file\n",
    "            print(f\"Uploading {filename}:\")\n",
    "            self._pbar = tqdm(total=self._total, unit='B', unit_scale=True)\n",
    "\n",
    "        def __call__(self, bytes_amount):\n",
    "            # Update progress\n",
    "            self._seen_so_far += bytes_amount\n",
    "            self._pbar.update(bytes_amount)\n",
    "            # Close the progress bar when done\n",
    "            if self._seen_so_far >= self._total:\n",
    "                self._pbar.close()\n",
    "\n",
    "    # Traverse through all files and subfolders in the given folder\n",
    "    for root, dirs, files in os.walk(folder_name):\n",
    "        for file in files:\n",
    "            # Full path of the file\n",
    "            local_file_path = os.path.join(root, file)\n",
    "            \n",
    "            # Construct the S3 key by replacing the base folder path with the upload_path in S3\n",
    "            relative_path = os.path.relpath(local_file_path, folder_name)\n",
    "            s3_key = os.path.join(upload_path, relative_path).replace(\"\\\\\", \"/\")\n",
    "            try:\n",
    "                # Upload the file with progress callback\n",
    "                s3_client.upload_file(\n",
    "                    local_file_path,\n",
    "                    upload_bucket_name,\n",
    "                    s3_key,\n",
    "                    Callback=ProgressPercentage(local_file_path)\n",
    "                )\n",
    "                # Log the successful upload\n",
    "                log_text = f\"{upload_bucket_name},{s3_key},{file},Success\"\n",
    "                write_log(\"upload.csv\", log_text, config)\n",
    "            except FileNotFoundError:\n",
    "                print(f\"The file {local_file_path} was not found\")\n",
    "                # Log the failure\n",
    "                log_text = f\"{upload_bucket_name},{s3_key},{file},FileNotFoundError\"\n",
    "                write_log(\"upload.csv\", log_text, config)\n",
    "            except NoCredentialsError:\n",
    "                print(\"Credentials not available\")\n",
    "                # Log the failure\n",
    "                log_text = f\"{upload_bucket_name},{s3_key},{file},NoCredentialsError\"\n",
    "                write_log(\"upload.csv\", log_text, config)\n",
    "            except ClientError as e:\n",
    "                print(f\"Failed to upload {local_file_path} to {upload_bucket_name}/{s3_key}: {e}\")\n",
    "                # Log the failure with error message\n",
    "                log_text = f\"{upload_bucket_name},{s3_key},{file},ClientError: {e}\"\n",
    "                write_log(\"upload.csv\", log_text, config)\n",
    "            print()"
   ]
  },
  {
   "cell_type": "code",
   "execution_count": 7,
   "id": "29b16fab-8471-4e21-b446-d967a1aa79b0",
   "metadata": {},
   "outputs": [],
   "source": [
    "# Load configuration\n",
    "config_file = 'config/config.yaml'\n",
    "config = load_config(config_file)"
   ]
  },
  {
   "cell_type": "code",
   "execution_count": 8,
   "id": "bab7c433-4ebc-459c-8e65-d604c6db0279",
   "metadata": {},
   "outputs": [
    {
     "name": "stdout",
     "output_type": "stream",
     "text": [
      "Uploading L:/My Drive/Source_Files\\lior_test.txt:\n"
     ]
    },
    {
     "name": "stderr",
     "output_type": "stream",
     "text": [
      "100%|████████████████████████████████████████████████████████████████████████████████| 27.0/27.0 [00:00<00:00, 90.8B/s]\n"
     ]
    },
    {
     "name": "stdout",
     "output_type": "stream",
     "text": [
      "\n",
      "Uploading L:/My Drive/Source_Files\\desktop.ini:\n"
     ]
    },
    {
     "name": "stderr",
     "output_type": "stream",
     "text": [
      "100%|█████████████████████████████████████████████████████████████████████████████████| 244/244 [00:00<00:00, 6.56kB/s]\n"
     ]
    },
    {
     "name": "stdout",
     "output_type": "stream",
     "text": [
      "\n",
      "Uploading L:/My Drive/Source_Files\\JPG\\AWS Solution Architect Sylabus.jpg:\n"
     ]
    },
    {
     "name": "stderr",
     "output_type": "stream",
     "text": [
      "100%|█████████████████████████████████████████████████████████████████████████████| 1.23M/1.23M [00:00<00:00, 11.7MB/s]\n"
     ]
    },
    {
     "name": "stdout",
     "output_type": "stream",
     "text": [
      "\n",
      "Uploading L:/My Drive/Source_Files\\JPG\\CISSP Sylabus.jpg:\n"
     ]
    },
    {
     "name": "stderr",
     "output_type": "stream",
     "text": [
      "100%|█████████████████████████████████████████████████████████████████████████████| 2.63M/2.63M [00:00<00:00, 21.4MB/s]\n"
     ]
    },
    {
     "name": "stdout",
     "output_type": "stream",
     "text": [
      "\n",
      "Uploading L:/My Drive/Source_Files\\JPG\\CC Sylabus.jpg:\n"
     ]
    },
    {
     "name": "stderr",
     "output_type": "stream",
     "text": [
      "100%|█████████████████████████████████████████████████████████████████████████████| 2.16M/2.16M [00:00<00:00, 30.5MB/s]\n"
     ]
    },
    {
     "name": "stdout",
     "output_type": "stream",
     "text": [
      "\n",
      "Uploading L:/My Drive/Source_Files\\JPG\\AWS Practitioner Sylabus.jpg:\n"
     ]
    },
    {
     "name": "stderr",
     "output_type": "stream",
     "text": [
      "100%|█████████████████████████████████████████████████████████████████████████████| 3.22M/3.22M [00:00<00:00, 24.7MB/s]\n"
     ]
    },
    {
     "name": "stdout",
     "output_type": "stream",
     "text": [
      "\n",
      "Uploading L:/My Drive/Source_Files\\JPG\\FinOps Sylabus.jpg:\n"
     ]
    },
    {
     "name": "stderr",
     "output_type": "stream",
     "text": [
      "100%|█████████████████████████████████████████████████████████████████████████████| 1.30M/1.30M [00:00<00:00, 15.0MB/s]\n"
     ]
    },
    {
     "name": "stdout",
     "output_type": "stream",
     "text": [
      "\n",
      "Uploading L:/My Drive/Source_Files\\JPG\\CCNA Sylabus.jpg:\n"
     ]
    },
    {
     "name": "stderr",
     "output_type": "stream",
     "text": [
      "100%|█████████████████████████████████████████████████████████████████████████████| 1.35M/1.35M [00:00<00:00, 9.65MB/s]\n"
     ]
    },
    {
     "name": "stdout",
     "output_type": "stream",
     "text": [
      "\n",
      "Uploading L:/My Drive/Source_Files\\JPG\\DPO Sylabus.jpg:\n"
     ]
    },
    {
     "name": "stderr",
     "output_type": "stream",
     "text": [
      "100%|█████████████████████████████████████████████████████████████████████████████| 2.62M/2.62M [00:00<00:00, 24.5MB/s]\n"
     ]
    },
    {
     "name": "stdout",
     "output_type": "stream",
     "text": [
      "\n",
      "Uploading L:/My Drive/Source_Files\\JPG\\CCSP Sylabus.jpg:\n"
     ]
    },
    {
     "name": "stderr",
     "output_type": "stream",
     "text": [
      "100%|█████████████████████████████████████████████████████████████████████████████| 2.10M/2.10M [00:00<00:00, 13.4MB/s]\n"
     ]
    },
    {
     "name": "stdout",
     "output_type": "stream",
     "text": [
      "\n",
      "Uploading L:/My Drive/Source_Files\\JPG\\Fortinet NSE Sylabus.jpg:\n"
     ]
    },
    {
     "name": "stderr",
     "output_type": "stream",
     "text": [
      "100%|█████████████████████████████████████████████████████████████████████████████| 1.08M/1.08M [00:00<00:00, 11.6MB/s]\n"
     ]
    },
    {
     "name": "stdout",
     "output_type": "stream",
     "text": [
      "\n",
      "Uploading L:/My Drive/Source_Files\\JPG\\desktop.ini:\n"
     ]
    },
    {
     "name": "stderr",
     "output_type": "stream",
     "text": [
      "100%|█████████████████████████████████████████████████████████████████████████████████| 244/244 [00:00<00:00, 8.50kB/s]\n"
     ]
    },
    {
     "name": "stdout",
     "output_type": "stream",
     "text": [
      "\n",
      "Uploading L:/My Drive/Source_Files\\DOC\\BI Fin Ops Sylabus.docx:\n"
     ]
    },
    {
     "name": "stderr",
     "output_type": "stream",
     "text": [
      "100%|█████████████████████████████████████████████████████████████████████████████| 3.76M/3.76M [00:00<00:00, 26.2MB/s]\n"
     ]
    },
    {
     "name": "stdout",
     "output_type": "stream",
     "text": [
      "\n",
      "Uploading L:/My Drive/Source_Files\\DOC\\DevSecOps Sylabus.docx:\n"
     ]
    },
    {
     "name": "stderr",
     "output_type": "stream",
     "text": [
      "100%|█████████████████████████████████████████████████████████████████████████████| 2.07M/2.07M [00:00<00:00, 19.2MB/s]\n"
     ]
    },
    {
     "name": "stdout",
     "output_type": "stream",
     "text": [
      "\n",
      "Uploading L:/My Drive/Source_Files\\DOC\\DMP Sylabus.docx:\n"
     ]
    },
    {
     "name": "stderr",
     "output_type": "stream",
     "text": [
      "100%|█████████████████████████████████████████████████████████████████████████████| 1.38M/1.38M [00:00<00:00, 9.99MB/s]\n"
     ]
    },
    {
     "name": "stdout",
     "output_type": "stream",
     "text": [
      "\n",
      "Uploading L:/My Drive/Source_Files\\DOC\\Product Management Sylabus.docx:\n"
     ]
    },
    {
     "name": "stderr",
     "output_type": "stream",
     "text": [
      "100%|█████████████████████████████████████████████████████████████████████████████| 1.74M/1.74M [00:00<00:00, 16.0MB/s]\n"
     ]
    },
    {
     "name": "stdout",
     "output_type": "stream",
     "text": [
      "\n",
      "Uploading L:/My Drive/Source_Files\\DOC\\Data Science Sylabus.docx:\n"
     ]
    },
    {
     "name": "stderr",
     "output_type": "stream",
     "text": [
      "100%|█████████████████████████████████████████████████████████████████████████████| 1.76M/1.76M [00:00<00:00, 16.4MB/s]\n"
     ]
    },
    {
     "name": "stdout",
     "output_type": "stream",
     "text": [
      "\n",
      "Uploading L:/My Drive/Source_Files\\DOC\\QA Sylabus.docx:\n"
     ]
    },
    {
     "name": "stderr",
     "output_type": "stream",
     "text": [
      "100%|█████████████████████████████████████████████████████████████████████████████| 2.27M/2.27M [00:00<00:00, 29.3MB/s]\n"
     ]
    },
    {
     "name": "stdout",
     "output_type": "stream",
     "text": [
      "\n",
      "Uploading L:/My Drive/Source_Files\\DOC\\CDAIO-CDO Sylabus.docx:\n"
     ]
    },
    {
     "name": "stderr",
     "output_type": "stream",
     "text": [
      "100%|█████████████████████████████████████████████████████████████████████████████| 5.08M/5.08M [00:00<00:00, 44.2MB/s]\n"
     ]
    },
    {
     "name": "stdout",
     "output_type": "stream",
     "text": [
      "\n",
      "Uploading L:/My Drive/Source_Files\\DOC\\CND Sylabus.docx:\n"
     ]
    },
    {
     "name": "stderr",
     "output_type": "stream",
     "text": [
      "100%|█████████████████████████████████████████████████████████████████████████████| 6.17M/6.17M [00:00<00:00, 36.7MB/s]\n"
     ]
    },
    {
     "name": "stdout",
     "output_type": "stream",
     "text": [
      "\n",
      "Uploading L:/My Drive/Source_Files\\DOC\\CISO Sylabus.docx:\n"
     ]
    },
    {
     "name": "stderr",
     "output_type": "stream",
     "text": [
      "100%|█████████████████████████████████████████████████████████████████████████████| 1.37M/1.37M [00:00<00:00, 12.9MB/s]\n"
     ]
    },
    {
     "name": "stdout",
     "output_type": "stream",
     "text": [
      "\n",
      "Uploading L:/My Drive/Source_Files\\DOC\\desktop.ini:\n"
     ]
    },
    {
     "name": "stderr",
     "output_type": "stream",
     "text": [
      "100%|█████████████████████████████████████████████████████████████████████████████████| 244/244 [00:00<00:00, 8.61kB/s]\n"
     ]
    },
    {
     "name": "stdout",
     "output_type": "stream",
     "text": [
      "\n",
      "Uploading L:/My Drive/Source_Files\\PDF\\CDAIO-CDO Intro.pdf:\n"
     ]
    },
    {
     "name": "stderr",
     "output_type": "stream",
     "text": [
      "100%|█████████████████████████████████████████████████████████████████████████████| 2.53M/2.53M [00:00<00:00, 16.8MB/s]\n"
     ]
    },
    {
     "name": "stdout",
     "output_type": "stream",
     "text": [
      "\n",
      "Uploading L:/My Drive/Source_Files\\PDF\\BI Fin Ops Sylabus.pdf:\n"
     ]
    },
    {
     "name": "stderr",
     "output_type": "stream",
     "text": [
      "100%|███████████████████████████████████████████████████████████████████████████████| 699k/699k [00:00<00:00, 5.79MB/s]\n"
     ]
    },
    {
     "name": "stdout",
     "output_type": "stream",
     "text": [
      "\n",
      "Uploading L:/My Drive/Source_Files\\PDF\\CDAIO-CDO Sylabus.pdf:\n"
     ]
    },
    {
     "name": "stderr",
     "output_type": "stream",
     "text": [
      "100%|███████████████████████████████████████████████████████████████████████████████| 900k/900k [00:00<00:00, 8.47MB/s]\n"
     ]
    },
    {
     "name": "stdout",
     "output_type": "stream",
     "text": [
      "\n",
      "Uploading L:/My Drive/Source_Files\\PDF\\QA Sylabus.pdf:\n"
     ]
    },
    {
     "name": "stderr",
     "output_type": "stream",
     "text": [
      "100%|███████████████████████████████████████████████████████████████████████████████| 753k/753k [00:00<00:00, 7.47MB/s]\n"
     ]
    },
    {
     "name": "stdout",
     "output_type": "stream",
     "text": [
      "\n",
      "Uploading L:/My Drive/Source_Files\\PDF\\Product Management Sylabus.pdf:\n"
     ]
    },
    {
     "name": "stderr",
     "output_type": "stream",
     "text": [
      "100%|███████████████████████████████████████████████████████████████████████████████| 815k/815k [00:00<00:00, 13.7MB/s]\n"
     ]
    },
    {
     "name": "stdout",
     "output_type": "stream",
     "text": [
      "\n",
      "Uploading L:/My Drive/Source_Files\\PDF\\DS & AI for Managers Sylabus.pdf:\n"
     ]
    },
    {
     "name": "stderr",
     "output_type": "stream",
     "text": [
      "100%|███████████████████████████████████████████████████████████████████████████████| 112k/112k [00:00<00:00, 1.26MB/s]\n"
     ]
    },
    {
     "name": "stdout",
     "output_type": "stream",
     "text": [
      "\n",
      "Uploading L:/My Drive/Source_Files\\PDF\\CISCO CCNA Sylabus.pdf:\n"
     ]
    },
    {
     "name": "stderr",
     "output_type": "stream",
     "text": [
      "100%|███████████████████████████████████████████████████████████████████████████████| 214k/214k [00:00<00:00, 2.17MB/s]\n"
     ]
    },
    {
     "name": "stdout",
     "output_type": "stream",
     "text": [
      "\n",
      "Uploading L:/My Drive/Source_Files\\PDF\\Check Point CCSA Sylabus.pdf:\n"
     ]
    },
    {
     "name": "stderr",
     "output_type": "stream",
     "text": [
      "100%|███████████████████████████████████████████████████████████████████████████████| 168k/168k [00:00<00:00, 1.68MB/s]\n"
     ]
    },
    {
     "name": "stdout",
     "output_type": "stream",
     "text": [
      "\n",
      "Uploading L:/My Drive/Source_Files\\PDF\\Data Science Sylabus.pdf:\n"
     ]
    },
    {
     "name": "stderr",
     "output_type": "stream",
     "text": [
      "100%|███████████████████████████████████████████████████████████████████████████████| 735k/735k [00:00<00:00, 5.67MB/s]\n"
     ]
    },
    {
     "name": "stdout",
     "output_type": "stream",
     "text": [
      "\n",
      "Uploading L:/My Drive/Source_Files\\PDF\\DMP Sylabus.pdf:\n"
     ]
    },
    {
     "name": "stderr",
     "output_type": "stream",
     "text": [
      "100%|███████████████████████████████████████████████████████████████████████████████| 583k/583k [00:00<00:00, 10.2MB/s]\n"
     ]
    },
    {
     "name": "stdout",
     "output_type": "stream",
     "text": [
      "\n",
      "Uploading L:/My Drive/Source_Files\\PDF\\DevSecOps Sylabus.pdf:\n"
     ]
    },
    {
     "name": "stderr",
     "output_type": "stream",
     "text": [
      "100%|███████████████████████████████████████████████████████████████████████████████| 873k/873k [00:00<00:00, 7.73MB/s]\n"
     ]
    },
    {
     "name": "stdout",
     "output_type": "stream",
     "text": [
      "\n",
      "Uploading L:/My Drive/Source_Files\\PDF\\CND Sylabus.pdf:\n"
     ]
    },
    {
     "name": "stderr",
     "output_type": "stream",
     "text": [
      "100%|█████████████████████████████████████████████████████████████████████████████| 1.14M/1.14M [00:00<00:00, 9.16MB/s]\n"
     ]
    },
    {
     "name": "stdout",
     "output_type": "stream",
     "text": [
      "\n",
      "Uploading L:/My Drive/Source_Files\\PDF\\CISO Sylabus.pdf:\n"
     ]
    },
    {
     "name": "stderr",
     "output_type": "stream",
     "text": [
      "100%|███████████████████████████████████████████████████████████████████████████████| 832k/832k [00:00<00:00, 5.92MB/s]\n"
     ]
    },
    {
     "name": "stdout",
     "output_type": "stream",
     "text": [
      "\n",
      "Uploading L:/My Drive/Source_Files\\PDF\\Advanced Project Management Sylabus.pdf:\n"
     ]
    },
    {
     "name": "stderr",
     "output_type": "stream",
     "text": [
      "100%|███████████████████████████████████████████████████████████████████████████████| 127k/127k [00:00<00:00, 2.85MB/s]\n"
     ]
    },
    {
     "name": "stdout",
     "output_type": "stream",
     "text": [
      "\n",
      "Uploading L:/My Drive/Source_Files\\PDF\\FinOps Sylabus.pdf:\n"
     ]
    },
    {
     "name": "stderr",
     "output_type": "stream",
     "text": [
      "100%|███████████████████████████████████████████████████████████████████████████████| 184k/184k [00:00<00:00, 2.42MB/s]\n"
     ]
    },
    {
     "name": "stdout",
     "output_type": "stream",
     "text": [
      "\n",
      "Uploading L:/My Drive/Source_Files\\PDF\\AWS Solution Architect Sylabus.pdf:\n"
     ]
    },
    {
     "name": "stderr",
     "output_type": "stream",
     "text": [
      "100%|███████████████████████████████████████████████████████████████████████████████| 200k/200k [00:00<00:00, 1.80MB/s]\n"
     ]
    },
    {
     "name": "stdout",
     "output_type": "stream",
     "text": [
      "\n",
      "Uploading L:/My Drive/Source_Files\\PDF\\AWS Practitioner Sylabus.pdf:\n"
     ]
    },
    {
     "name": "stderr",
     "output_type": "stream",
     "text": [
      "100%|███████████████████████████████████████████████████████████████████████████████| 147k/147k [00:00<00:00, 1.79MB/s]\n"
     ]
    },
    {
     "name": "stdout",
     "output_type": "stream",
     "text": [
      "\n",
      "Uploading L:/My Drive/Source_Files\\PDF\\CC Sylabus.pdf:\n"
     ]
    },
    {
     "name": "stderr",
     "output_type": "stream",
     "text": [
      "100%|███████████████████████████████████████████████████████████████████████████████| 152k/152k [00:00<00:00, 2.19MB/s]\n"
     ]
    },
    {
     "name": "stdout",
     "output_type": "stream",
     "text": [
      "\n",
      "Uploading L:/My Drive/Source_Files\\PDF\\CCNA Sylabus.pdf:\n"
     ]
    },
    {
     "name": "stderr",
     "output_type": "stream",
     "text": [
      "100%|███████████████████████████████████████████████████████████████████████████████| 209k/209k [00:00<00:00, 2.54MB/s]\n"
     ]
    },
    {
     "name": "stdout",
     "output_type": "stream",
     "text": [
      "\n",
      "Uploading L:/My Drive/Source_Files\\PDF\\CCSP Sylabus.pdf:\n"
     ]
    },
    {
     "name": "stderr",
     "output_type": "stream",
     "text": [
      "100%|███████████████████████████████████████████████████████████████████████████████| 169k/169k [00:00<00:00, 2.16MB/s]\n"
     ]
    },
    {
     "name": "stdout",
     "output_type": "stream",
     "text": [
      "\n",
      "Uploading L:/My Drive/Source_Files\\PDF\\CISSP Sylabus.pdf:\n"
     ]
    },
    {
     "name": "stderr",
     "output_type": "stream",
     "text": [
      "100%|███████████████████████████████████████████████████████████████████████████████| 185k/185k [00:00<00:00, 1.36MB/s]\n"
     ]
    },
    {
     "name": "stdout",
     "output_type": "stream",
     "text": [
      "\n",
      "Uploading L:/My Drive/Source_Files\\PDF\\DPO Sylabus.pdf:\n"
     ]
    },
    {
     "name": "stderr",
     "output_type": "stream",
     "text": [
      "100%|███████████████████████████████████████████████████████████████████████████████| 153k/153k [00:00<00:00, 3.79MB/s]\n"
     ]
    },
    {
     "name": "stdout",
     "output_type": "stream",
     "text": [
      "\n",
      "Uploading L:/My Drive/Source_Files\\PDF\\Fortinet NSE Sylabus.pdf:\n"
     ]
    },
    {
     "name": "stderr",
     "output_type": "stream",
     "text": [
      "100%|███████████████████████████████████████████████████████████████████████████████| 188k/188k [00:00<00:00, 1.95MB/s]\n"
     ]
    },
    {
     "name": "stdout",
     "output_type": "stream",
     "text": [
      "\n",
      "Uploading L:/My Drive/Source_Files\\PDF\\desktop.ini:\n"
     ]
    },
    {
     "name": "stderr",
     "output_type": "stream",
     "text": [
      "100%|█████████████████████████████████████████████████████████████████████████████████| 244/244 [00:00<00:00, 9.71kB/s]\n"
     ]
    },
    {
     "name": "stdout",
     "output_type": "stream",
     "text": [
      "\n"
     ]
    }
   ],
   "source": [
    "# call the folder upload function\n",
    "folder_name = config['local']['source_folder_name']\n",
    "\n",
    "upload_folders_to_s3(folder_name, config)"
   ]
  }
 ],
 "metadata": {
  "kernelspec": {
   "display_name": "LLM_Projects",
   "language": "python",
   "name": "llm_projects"
  },
  "language_info": {
   "codemirror_mode": {
    "name": "ipython",
    "version": 3
   },
   "file_extension": ".py",
   "mimetype": "text/x-python",
   "name": "python",
   "nbconvert_exporter": "python",
   "pygments_lexer": "ipython3",
   "version": "3.11.9"
  }
 },
 "nbformat": 4,
 "nbformat_minor": 5
}
