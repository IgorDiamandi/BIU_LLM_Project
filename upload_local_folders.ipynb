{
 "cells": [
  {
   "cell_type": "code",
   "execution_count": 1,
   "id": "de7fca6f-a321-4381-a30e-1378848a70e9",
   "metadata": {},
   "outputs": [],
   "source": [
    "import os\n",
    "import json5\n",
    "from tqdm import tqdm\n",
    "import boto3\n",
    "import yaml\n",
    "from datetime import datetime\n",
    "from botocore.exceptions import NoCredentialsError, ClientError"
   ]
  },
  {
   "cell_type": "code",
   "execution_count": 2,
   "id": "e5b04d8c-4a8f-4769-8c1c-7f5f8d9d9f66",
   "metadata": {},
   "outputs": [],
   "source": [
    "def load_config(config_file):\n",
    "    # Load configuration from the YAML file\n",
    "    with open(config_file, 'r') as file:\n",
    "        config = yaml.safe_load(file)\n",
    "    return config"
   ]
  },
  {
   "cell_type": "code",
   "execution_count": 3,
   "id": "e3950045-067c-4349-a886-44ab09cb9381",
   "metadata": {},
   "outputs": [],
   "source": [
    "def write_log(config, log_file_name, log_text):\n",
    "    # Extract parameters from the configuration\n",
    "    region_name = config['aws']['region_name']\n",
    "    log_bucket_name = config['aws']['log_bucket_name']\n",
    "    log_path = config['aws']['log_path']\n",
    "    aws_access_key_id = config['aws']['aws_access_key_id']\n",
    "    aws_secret_access_key = config['aws']['aws_secret_access_key']\n",
    "\n",
    "    # Create an S3 client with the specified credentials\n",
    "    s3_client = boto3.client(\n",
    "        's3',\n",
    "        aws_access_key_id=aws_access_key_id,\n",
    "        aws_secret_access_key=aws_secret_access_key,\n",
    "        region_name=region_name\n",
    "    )\n",
    "\n",
    "    # Construct the S3 key for the log file\n",
    "    s3_key = f\"{log_path}/{log_file_name}\"\n",
    "\n",
    "    # Get the current system time\n",
    "    current_time = datetime.now().strftime(\"%Y/%m/%d %H:%M:%S\")\n",
    "\n",
    "    # Create a CSV row with the current time and log text\n",
    "    log_row = [current_time, log_text]\n",
    "    \n",
    "    # Try to download the existing log file, if it exists\n",
    "    try:\n",
    "        # Read the existing log file from S3\n",
    "        response = s3_client.get_object(Bucket=log_bucket_name, Key=s3_key)\n",
    "        existing_log = response['Body'].read().decode('utf-8')\n",
    "        \n",
    "        # Append the new log row to the existing log content\n",
    "        log_content = existing_log + \"\\n\" + \",\".join(log_row)\n",
    "\n",
    "    except s3_client.exceptions.NoSuchKey:\n",
    "        # If the file does not exist, create a new log content with headers\n",
    "        log_content = \"Start Log\\n\" + \",\".join(log_row)\n",
    "\n",
    "    # Write the updated log content back to S3\n",
    "    try:\n",
    "        # Convert log content to bytes and upload it\n",
    "        s3_client.put_object(Bucket=log_bucket_name, Key=s3_key, Body=log_content.encode('utf-8'))\n",
    "        #print(f\"Log entry added to {log_bucket_name}/{s3_key}\")\n",
    "    except (NoCredentialsError, ClientError) as e:\n",
    "        print(f\"Failed to write log entry to {log_bucket_name}/{s3_key}: {e}\") "
   ]
  },
  {
   "cell_type": "code",
   "execution_count": 4,
   "id": "1685cf8a-12ea-474c-921d-d3f4d8a51c36",
   "metadata": {},
   "outputs": [],
   "source": [
    "def upload_folders_to_s3(config, sources_folder_name, target_region_name, target_bucket_name, target_path, log_file='upload_folders'):\n",
    "    \n",
    "    # Extract parameters from the configuration\n",
    "    aws_access_key_id = config['aws']['aws_access_key_id']\n",
    "    aws_secret_access_key = config['aws']['aws_secret_access_key']\n",
    "    log_file = log_file+'.csv'\n",
    "    \n",
    "    # Create an S3 client with the specified credentials\n",
    "    s3_client = boto3.client(\n",
    "        's3',\n",
    "        aws_access_key_id=aws_access_key_id,\n",
    "        aws_secret_access_key=aws_secret_access_key,\n",
    "        region_name=target_region_name\n",
    "    )\n",
    "\n",
    "    # Progress bar class for tracking each file\n",
    "    class ProgressPercentage(object):\n",
    "        def __init__(self, filename):\n",
    "            self._filename = filename\n",
    "            self._seen_so_far = 0\n",
    "            self._total = os.path.getsize(filename)\n",
    "            # Initialize the tqdm progress bar for the current file\n",
    "            print(f\"Uploading {filename}:\")\n",
    "            self._pbar = tqdm(total=self._total, unit='B', unit_scale=True)\n",
    "\n",
    "        def __call__(self, bytes_amount):\n",
    "            # Update progress\n",
    "            self._seen_so_far += bytes_amount\n",
    "            self._pbar.update(bytes_amount)\n",
    "            # Close the progress bar when done\n",
    "            if self._seen_so_far >= self._total:\n",
    "                self._pbar.close()\n",
    "\n",
    "    # Traverse through all files and subfolders in the given folder\n",
    "    for root, dirs, files in os.walk(sources_folder_name):\n",
    "        for file in files:\n",
    "            # Full path of the file\n",
    "            local_file_path = os.path.join(root, file)\n",
    "            \n",
    "            # Construct the S3 key by replacing the base folder path with the target_path in S3\n",
    "            relative_path = os.path.relpath(local_file_path, sources_folder_name)\n",
    "            s3_key = os.path.join(target_path, relative_path).replace(\"\\\\\", \"/\")\n",
    "            try:\n",
    "                # Upload the file with progress callback\n",
    "                s3_client.upload_file(\n",
    "                    local_file_path,\n",
    "                    target_bucket_name,\n",
    "                    s3_key,\n",
    "                    Callback=ProgressPercentage(local_file_path)\n",
    "                )\n",
    "                # Log the successful upload\n",
    "                log_text = f\"{target_bucket_name},{s3_key},{file},Success\"\n",
    "                write_log(config, log_file, log_text)\n",
    "            except FileNotFoundError:\n",
    "                print(f\"The file {local_file_path} was not found\")\n",
    "                # Log the failure\n",
    "                log_text = f\"{target_bucket_name},{s3_key},{file},FileNotFoundError\"\n",
    "                write_log(config, log_file, log_text)\n",
    "            except NoCredentialsError:\n",
    "                print(\"Credentials not available\")\n",
    "                # Log the failure\n",
    "                log_text = f\"{target_bucket_name},{s3_key},{file},NoCredentialsError\"\n",
    "                write_log(config, log_file, log_text)\n",
    "            except ClientError as e:\n",
    "                print(f\"Failed to upload {local_file_path} to {sources_bucket_name}/{s3_key}: {e}\")\n",
    "                # Log the failure with error message\n",
    "                log_text = f\"{target_bucket_name},{s3_key},{file},ClientError: {e}\"\n",
    "                write_log(config, log_file, log_text)\n",
    "            print()"
   ]
  },
  {
   "cell_type": "code",
   "execution_count": 5,
   "id": "08785e68-0a2f-46e1-982d-19748bd1d9dd",
   "metadata": {},
   "outputs": [
    {
     "name": "stdout",
     "output_type": "stream",
     "text": [
      "Current working directory: C:\\github_repos\\BIU_LLM_Project\n",
      "Uploading L:/My Drive/Source_Files\\lior_test.txt:\n"
     ]
    },
    {
     "name": "stderr",
     "output_type": "stream",
     "text": [
      "100%|████████████████████████████████████████████████████████████████████████████████| 27.0/27.0 [00:00<00:00, 52.9B/s]\n"
     ]
    },
    {
     "name": "stdout",
     "output_type": "stream",
     "text": [
      "\n",
      "Uploading L:/My Drive/Source_Files\\desktop.ini:\n"
     ]
    },
    {
     "name": "stderr",
     "output_type": "stream",
     "text": [
      "100%|█████████████████████████████████████████████████████████████████████████████████| 246/246 [00:00<00:00, 5.04kB/s]\n"
     ]
    },
    {
     "name": "stdout",
     "output_type": "stream",
     "text": [
      "\n",
      "Uploading L:/My Drive/Source_Files\\DOC\\BI Fin Ops Sylabus.docx:\n"
     ]
    },
    {
     "name": "stderr",
     "output_type": "stream",
     "text": [
      "100%|█████████████████████████████████████████████████████████████████████████████| 3.76M/3.76M [00:00<00:00, 18.3MB/s]\n"
     ]
    },
    {
     "name": "stdout",
     "output_type": "stream",
     "text": [
      "\n",
      "Uploading L:/My Drive/Source_Files\\DOC\\DevSecOps Sylabus.docx:\n"
     ]
    },
    {
     "name": "stderr",
     "output_type": "stream",
     "text": [
      "100%|█████████████████████████████████████████████████████████████████████████████| 2.07M/2.07M [00:00<00:00, 8.98MB/s]\n"
     ]
    },
    {
     "name": "stdout",
     "output_type": "stream",
     "text": [
      "\n",
      "Uploading L:/My Drive/Source_Files\\DOC\\DMP Sylabus.docx:\n"
     ]
    },
    {
     "name": "stderr",
     "output_type": "stream",
     "text": [
      "100%|█████████████████████████████████████████████████████████████████████████████| 1.38M/1.38M [00:00<00:00, 9.40MB/s]\n"
     ]
    },
    {
     "name": "stdout",
     "output_type": "stream",
     "text": [
      "\n",
      "Uploading L:/My Drive/Source_Files\\DOC\\Product Management Sylabus.docx:\n"
     ]
    },
    {
     "name": "stderr",
     "output_type": "stream",
     "text": [
      "100%|█████████████████████████████████████████████████████████████████████████████| 1.74M/1.74M [00:00<00:00, 8.91MB/s]\n"
     ]
    },
    {
     "name": "stdout",
     "output_type": "stream",
     "text": [
      "\n",
      "Uploading L:/My Drive/Source_Files\\DOC\\Data Science Sylabus.docx:\n"
     ]
    },
    {
     "name": "stderr",
     "output_type": "stream",
     "text": [
      "100%|█████████████████████████████████████████████████████████████████████████████| 1.76M/1.76M [00:00<00:00, 8.58MB/s]\n"
     ]
    },
    {
     "name": "stdout",
     "output_type": "stream",
     "text": [
      "\n",
      "Uploading L:/My Drive/Source_Files\\DOC\\QA Sylabus.docx:\n"
     ]
    },
    {
     "name": "stderr",
     "output_type": "stream",
     "text": [
      "100%|█████████████████████████████████████████████████████████████████████████████| 2.27M/2.27M [00:00<00:00, 13.9MB/s]\n"
     ]
    },
    {
     "name": "stdout",
     "output_type": "stream",
     "text": [
      "\n",
      "Uploading L:/My Drive/Source_Files\\DOC\\CDAIO-CDO Sylabus.docx:\n"
     ]
    },
    {
     "name": "stderr",
     "output_type": "stream",
     "text": [
      "100%|█████████████████████████████████████████████████████████████████████████████| 5.08M/5.08M [00:00<00:00, 19.5MB/s]\n"
     ]
    },
    {
     "name": "stdout",
     "output_type": "stream",
     "text": [
      "\n",
      "Uploading L:/My Drive/Source_Files\\DOC\\CND Sylabus.docx:\n"
     ]
    },
    {
     "name": "stderr",
     "output_type": "stream",
     "text": [
      "100%|█████████████████████████████████████████████████████████████████████████████| 6.17M/6.17M [00:00<00:00, 18.6MB/s]\n"
     ]
    },
    {
     "name": "stdout",
     "output_type": "stream",
     "text": [
      "\n",
      "Uploading L:/My Drive/Source_Files\\DOC\\CISO Sylabus.docx:\n"
     ]
    },
    {
     "name": "stderr",
     "output_type": "stream",
     "text": [
      "100%|█████████████████████████████████████████████████████████████████████████████| 1.37M/1.37M [00:00<00:00, 11.4MB/s]\n"
     ]
    },
    {
     "name": "stdout",
     "output_type": "stream",
     "text": [
      "\n",
      "Uploading L:/My Drive/Source_Files\\DOC\\desktop.ini:\n"
     ]
    },
    {
     "name": "stderr",
     "output_type": "stream",
     "text": [
      "100%|█████████████████████████████████████████████████████████████████████████████████| 246/246 [00:00<00:00, 6.04kB/s]\n"
     ]
    },
    {
     "name": "stdout",
     "output_type": "stream",
     "text": [
      "\n",
      "Uploading L:/My Drive/Source_Files\\PDF\\CDAIO-CDO Intro.pdf:\n"
     ]
    },
    {
     "name": "stderr",
     "output_type": "stream",
     "text": [
      "100%|█████████████████████████████████████████████████████████████████████████████| 2.53M/2.53M [00:00<00:00, 8.90MB/s]\n"
     ]
    },
    {
     "name": "stdout",
     "output_type": "stream",
     "text": [
      "\n",
      "Uploading L:/My Drive/Source_Files\\PDF\\BI Fin Ops Sylabus.pdf:\n"
     ]
    },
    {
     "name": "stderr",
     "output_type": "stream",
     "text": [
      "100%|███████████████████████████████████████████████████████████████████████████████| 699k/699k [00:00<00:00, 3.47MB/s]\n"
     ]
    },
    {
     "name": "stdout",
     "output_type": "stream",
     "text": [
      "\n",
      "Uploading L:/My Drive/Source_Files\\PDF\\CDAIO-CDO Sylabus.pdf:\n"
     ]
    },
    {
     "name": "stderr",
     "output_type": "stream",
     "text": [
      "100%|███████████████████████████████████████████████████████████████████████████████| 900k/900k [00:00<00:00, 4.45MB/s]\n"
     ]
    },
    {
     "name": "stdout",
     "output_type": "stream",
     "text": [
      "\n",
      "Uploading L:/My Drive/Source_Files\\PDF\\QA Sylabus.pdf:\n"
     ]
    },
    {
     "name": "stderr",
     "output_type": "stream",
     "text": [
      "100%|███████████████████████████████████████████████████████████████████████████████| 753k/753k [00:00<00:00, 3.84MB/s]\n"
     ]
    },
    {
     "name": "stdout",
     "output_type": "stream",
     "text": [
      "\n",
      "Uploading L:/My Drive/Source_Files\\PDF\\Product Management Sylabus.pdf:\n"
     ]
    },
    {
     "name": "stderr",
     "output_type": "stream",
     "text": [
      "100%|███████████████████████████████████████████████████████████████████████████████| 815k/815k [00:00<00:00, 3.96MB/s]\n"
     ]
    },
    {
     "name": "stdout",
     "output_type": "stream",
     "text": [
      "\n",
      "Uploading L:/My Drive/Source_Files\\PDF\\DS & AI for Managers Sylabus.pdf:\n"
     ]
    },
    {
     "name": "stderr",
     "output_type": "stream",
     "text": [
      "100%|███████████████████████████████████████████████████████████████████████████████| 112k/112k [00:00<00:00, 1.41MB/s]\n"
     ]
    },
    {
     "name": "stdout",
     "output_type": "stream",
     "text": [
      "\n",
      "Uploading L:/My Drive/Source_Files\\PDF\\CISCO CCNA Sylabus.pdf:\n"
     ]
    },
    {
     "name": "stderr",
     "output_type": "stream",
     "text": [
      "100%|███████████████████████████████████████████████████████████████████████████████| 214k/214k [00:00<00:00, 1.32MB/s]\n"
     ]
    },
    {
     "name": "stdout",
     "output_type": "stream",
     "text": [
      "\n",
      "Uploading L:/My Drive/Source_Files\\PDF\\Check Point CCSA Sylabus.pdf:\n"
     ]
    },
    {
     "name": "stderr",
     "output_type": "stream",
     "text": [
      "100%|███████████████████████████████████████████████████████████████████████████████| 168k/168k [00:00<00:00, 1.21MB/s]\n"
     ]
    },
    {
     "name": "stdout",
     "output_type": "stream",
     "text": [
      "\n",
      "Uploading L:/My Drive/Source_Files\\PDF\\Data Science Sylabus.pdf:\n"
     ]
    },
    {
     "name": "stderr",
     "output_type": "stream",
     "text": [
      "100%|███████████████████████████████████████████████████████████████████████████████| 735k/735k [00:00<00:00, 3.49MB/s]\n"
     ]
    },
    {
     "name": "stdout",
     "output_type": "stream",
     "text": [
      "\n",
      "Uploading L:/My Drive/Source_Files\\PDF\\DMP Sylabus.pdf:\n"
     ]
    },
    {
     "name": "stderr",
     "output_type": "stream",
     "text": [
      "100%|███████████████████████████████████████████████████████████████████████████████| 583k/583k [00:00<00:00, 3.09MB/s]\n"
     ]
    },
    {
     "name": "stdout",
     "output_type": "stream",
     "text": [
      "\n",
      "Uploading L:/My Drive/Source_Files\\PDF\\DevSecOps Sylabus.pdf:\n"
     ]
    },
    {
     "name": "stderr",
     "output_type": "stream",
     "text": [
      "100%|███████████████████████████████████████████████████████████████████████████████| 873k/873k [00:00<00:00, 4.61MB/s]\n"
     ]
    },
    {
     "name": "stdout",
     "output_type": "stream",
     "text": [
      "\n",
      "Uploading L:/My Drive/Source_Files\\PDF\\CND Sylabus.pdf:\n"
     ]
    },
    {
     "name": "stderr",
     "output_type": "stream",
     "text": [
      "100%|█████████████████████████████████████████████████████████████████████████████| 1.14M/1.14M [00:00<00:00, 6.40MB/s]\n"
     ]
    },
    {
     "name": "stdout",
     "output_type": "stream",
     "text": [
      "\n",
      "Uploading L:/My Drive/Source_Files\\PDF\\CISO Sylabus.pdf:\n"
     ]
    },
    {
     "name": "stderr",
     "output_type": "stream",
     "text": [
      "100%|███████████████████████████████████████████████████████████████████████████████| 832k/832k [00:00<00:00, 3.95MB/s]\n"
     ]
    },
    {
     "name": "stdout",
     "output_type": "stream",
     "text": [
      "\n",
      "Uploading L:/My Drive/Source_Files\\PDF\\Advanced Project Management Sylabus.pdf:\n"
     ]
    },
    {
     "name": "stderr",
     "output_type": "stream",
     "text": [
      "100%|████████████████████████████████████████████████████████████████████████████████| 127k/127k [00:00<00:00, 992kB/s]\n"
     ]
    },
    {
     "name": "stdout",
     "output_type": "stream",
     "text": [
      "\n",
      "Uploading L:/My Drive/Source_Files\\PDF\\FinOps Sylabus.pdf:\n"
     ]
    },
    {
     "name": "stderr",
     "output_type": "stream",
     "text": [
      "100%|███████████████████████████████████████████████████████████████████████████████| 196k/196k [00:00<00:00, 1.18MB/s]\n"
     ]
    },
    {
     "name": "stdout",
     "output_type": "stream",
     "text": [
      "\n",
      "Uploading L:/My Drive/Source_Files\\PDF\\AWS Solution Architect Sylabus.pdf:\n"
     ]
    },
    {
     "name": "stderr",
     "output_type": "stream",
     "text": [
      "100%|███████████████████████████████████████████████████████████████████████████████| 200k/200k [00:00<00:00, 1.26MB/s]\n"
     ]
    },
    {
     "name": "stdout",
     "output_type": "stream",
     "text": [
      "\n",
      "Uploading L:/My Drive/Source_Files\\PDF\\AWS Practitioner Sylabus.pdf:\n"
     ]
    },
    {
     "name": "stderr",
     "output_type": "stream",
     "text": [
      "100%|████████████████████████████████████████████████████████████████████████████████| 147k/147k [00:00<00:00, 847kB/s]\n"
     ]
    },
    {
     "name": "stdout",
     "output_type": "stream",
     "text": [
      "\n",
      "Uploading L:/My Drive/Source_Files\\PDF\\CC Sylabus.pdf:\n"
     ]
    },
    {
     "name": "stderr",
     "output_type": "stream",
     "text": [
      "100%|████████████████████████████████████████████████████████████████████████████████| 156k/156k [00:00<00:00, 989kB/s]\n"
     ]
    },
    {
     "name": "stdout",
     "output_type": "stream",
     "text": [
      "\n",
      "Uploading L:/My Drive/Source_Files\\PDF\\CCNA Sylabus.pdf:\n"
     ]
    },
    {
     "name": "stderr",
     "output_type": "stream",
     "text": [
      "100%|███████████████████████████████████████████████████████████████████████████████| 214k/214k [00:00<00:00, 1.21MB/s]\n"
     ]
    },
    {
     "name": "stdout",
     "output_type": "stream",
     "text": [
      "\n",
      "Uploading L:/My Drive/Source_Files\\PDF\\CCSP Sylabus.pdf:\n"
     ]
    },
    {
     "name": "stderr",
     "output_type": "stream",
     "text": [
      "100%|████████████████████████████████████████████████████████████████████████████████| 169k/169k [00:00<00:00, 953kB/s]\n"
     ]
    },
    {
     "name": "stdout",
     "output_type": "stream",
     "text": [
      "\n",
      "Uploading L:/My Drive/Source_Files\\PDF\\CISSP Sylabus.pdf:\n"
     ]
    },
    {
     "name": "stderr",
     "output_type": "stream",
     "text": [
      "100%|███████████████████████████████████████████████████████████████████████████████| 189k/189k [00:00<00:00, 2.11MB/s]\n"
     ]
    },
    {
     "name": "stdout",
     "output_type": "stream",
     "text": [
      "\n",
      "Uploading L:/My Drive/Source_Files\\PDF\\DPO Sylabus.pdf:\n"
     ]
    },
    {
     "name": "stderr",
     "output_type": "stream",
     "text": [
      "100%|████████████████████████████████████████████████████████████████████████████████| 153k/153k [00:00<00:00, 863kB/s]\n"
     ]
    },
    {
     "name": "stdout",
     "output_type": "stream",
     "text": [
      "\n",
      "Uploading L:/My Drive/Source_Files\\PDF\\Fortinet NSE Sylabus.pdf:\n"
     ]
    },
    {
     "name": "stderr",
     "output_type": "stream",
     "text": [
      "100%|███████████████████████████████████████████████████████████████████████████████| 189k/189k [00:00<00:00, 1.21MB/s]\n"
     ]
    },
    {
     "name": "stdout",
     "output_type": "stream",
     "text": [
      "\n",
      "Uploading L:/My Drive/Source_Files\\PDF\\desktop.ini:\n"
     ]
    },
    {
     "name": "stderr",
     "output_type": "stream",
     "text": [
      "100%|█████████████████████████████████████████████████████████████████████████████████| 246/246 [00:00<00:00, 4.86kB/s]\n"
     ]
    },
    {
     "name": "stdout",
     "output_type": "stream",
     "text": [
      "\n",
      "Uploading L:/My Drive/Source_Files\\JSON\\desktop.ini:\n"
     ]
    },
    {
     "name": "stderr",
     "output_type": "stream",
     "text": [
      "100%|█████████████████████████████████████████████████████████████████████████████████| 246/246 [00:00<00:00, 6.52kB/s]\n"
     ]
    },
    {
     "name": "stdout",
     "output_type": "stream",
     "text": [
      "\n"
     ]
    }
   ],
   "source": [
    "def main():\n",
    "    \"\"\"\n",
    "    Upload local folders - Main entry point\n",
    "    \"\"\"    \n",
    "    print(\"Current working directory:\", os.getcwd())\n",
    "    \n",
    "    try:\n",
    "        # Extract parameters from the configuration\n",
    "        config_file = 'config/config.yaml'\n",
    "        config = load_config(config_file)        \n",
    "\n",
    "        # Source Folder and sub-folders to upload\n",
    "        sources_folder_name = config['local']['sources_folder_name']\n",
    "        \n",
    "        # Target aws s3\n",
    "        target_region_name = config['aws']['region_name']\n",
    "        target_bucket_name = config['aws']['sources_bucket_name']\n",
    "        target_path = config['aws']['sources_path']    \n",
    "        log_file = 'upload_sources'\n",
    "        \n",
    "        upload_folders_to_s3(config, sources_folder_name, target_region_name, target_bucket_name, target_path, log_file)       \n",
    "    \n",
    "    except Exception as e:\n",
    "        print(f\"Main process error: {str(e)}\")\n",
    "        raise\n",
    "\n",
    "if __name__ == \"__main__\":\n",
    "    main()"
   ]
  }
 ],
 "metadata": {
  "kernelspec": {
   "display_name": "Python 3 (ipykernel)",
   "language": "python",
   "name": "python3"
  },
  "language_info": {
   "codemirror_mode": {
    "name": "ipython",
    "version": 3
   },
   "file_extension": ".py",
   "mimetype": "text/x-python",
   "name": "python",
   "nbconvert_exporter": "python",
   "pygments_lexer": "ipython3",
   "version": "3.12.4"
  }
 },
 "nbformat": 4,
 "nbformat_minor": 5
}
